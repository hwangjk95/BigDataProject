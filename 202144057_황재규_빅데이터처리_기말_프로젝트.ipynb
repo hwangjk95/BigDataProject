{
  "nbformat": 4,
  "nbformat_minor": 0,
  "metadata": {
    "colab": {
      "provenance": []
    },
    "kernelspec": {
      "name": "python3",
      "display_name": "Python 3"
    },
    "language_info": {
      "name": "python"
    }
  },
  "cells": [
    {
      "cell_type": "markdown",
      "source": [
        "# **파이썬 데이터 분석 프로젝트 - 2023 KBO 정규시즌 실제 순위와 지표별 WAR(대체선수 대비 승리기여)의 상관관계**"
      ],
      "metadata": {
        "id": "LoHXbcSaD10z"
      }
    },
    {
      "cell_type": "code",
      "source": [
        "# 단계 1: 폰트 설치\n",
        "import matplotlib.pyplot as plt\n",
        "import matplotlib.font_manager as fm\n",
        "\n",
        "!apt-get -qq -y install fonts-nanum > /dev/null\n",
        "\n",
        "\n",
        "\n",
        "fe = fm.FontEntry(\n",
        "    fname=r'/usr/share/fonts/truetype/nanum/NanumBarunGothic.ttf', # ttf 파일이 저장되어 있는 경로\n",
        "    name='NanumGothic')                        # 이 폰트의 원하는 이름 설정\n",
        "fm.fontManager.ttflist.insert(0, fe)              # Matplotlib에 폰트 추가\n",
        "plt.rcParams.update({'font.size': 18, 'font.family': 'NanumGothic'}) # 폰트 설"
      ],
      "metadata": {
        "id": "ual9IXDi88Ra"
      },
      "execution_count": 3,
      "outputs": []
    },
    {
      "cell_type": "code",
      "source": [
        "# 단계 2: 런타임 재시작\n",
        "import os\n",
        "os.kill(os.getpid(), 9)"
      ],
      "metadata": {
        "id": "EQCaYSs7Ay7I"
      },
      "execution_count": null,
      "outputs": []
    },
    {
      "cell_type": "code",
      "source": [
        "# 단계 3: 한글 폰트 설정\n",
        "import matplotlib.pyplot as plt\n",
        "import matplotlib as mpl\n",
        "import matplotlib.font_manager as fm\n",
        "\n",
        "# 마이너스 표시 문제\n",
        "mpl.rcParams['axes.unicode_minus'] = False\n",
        "\n",
        "# 한글 폰트 설정\n",
        "fe = fm.FontEntry(\n",
        "    fname=r'/usr/share/fonts/truetype/nanum/NanumBarunGothic.ttf', # ttf 파일이 저장되어 있는 경로\n",
        "    name='NanumGothic')                        # 이 폰트의 원하는 이름 설정\n",
        "fm.fontManager.ttflist.insert(0, fe)              # Matplotlib에 폰트 추가\n",
        "plt.rcParams.update({'font.size': 18, 'font.family': 'NanumGothic'}) # 폰트 설"
      ],
      "metadata": {
        "id": "JSgOUMvgA0PL"
      },
      "execution_count": 1,
      "outputs": []
    },
    {
      "cell_type": "code",
      "execution_count": 2,
      "metadata": {
        "id": "FAMZrXjg9DmF"
      },
      "outputs": [],
      "source": [
        "\n",
        "import pandas as pd\n",
        "import numpy as np\n",
        "import seaborn as sns\n",
        "import warnings\n",
        "warnings.filterwarnings(\"ignore\")\n",
        "\n"
      ]
    },
    {
      "cell_type": "markdown",
      "source": [
        "## **2023시즌 KBO 팀별 타격 WAR, 투구 WAR, 수비 WAA**"
      ],
      "metadata": {
        "id": "s0BwtoUQQMmV"
      }
    },
    {
      "cell_type": "code",
      "source": [
        "team_piching_path = './투구.csv'\n",
        "team_batting_path = './타격.csv'\n",
        "team_defence_path = './수비.csv'\n",
        "\n",
        "\n",
        "pich_war = pd.read_csv(team_piching_path)\n",
        "bat_war = pd.read_csv(team_batting_path)\n",
        "def_war = pd.read_csv(team_defence_path)\n",
        "\n",
        "print(pich_war.columns)\n",
        "print(bat_war.columns)\n",
        "print(def_war.columns)"
      ],
      "metadata": {
        "colab": {
          "base_uri": "https://localhost:8080/"
        },
        "id": "of1AseBiQMHl",
        "outputId": "5c022c28-d7a8-49c7-b4a4-a51b68cdcbd1"
      },
      "execution_count": 7,
      "outputs": [
        {
          "output_type": "stream",
          "name": "stdout",
          "text": [
            "Index(['순위', '팀명', 'WAR'], dtype='object')\n",
            "Index(['순위', '팀명', 'WAR'], dtype='object')\n",
            "Index(['순위', '팀명', 'WAAwithADJ'], dtype='object')\n"
          ]
        }
      ]
    },
    {
      "cell_type": "markdown",
      "source": [
        "## **2023 최종 팀 순위**"
      ],
      "metadata": {
        "id": "Xgsp0PNB0jmm"
      }
    },
    {
      "cell_type": "code",
      "source": [
        "team_rank_path = './팀순위.csv'\n",
        "\n",
        "team_rank = pd.read_csv(team_rank_path)\n",
        "print(team_rank)"
      ],
      "metadata": {
        "colab": {
          "base_uri": "https://localhost:8080/"
        },
        "id": "ZcpjWeM_0mLw",
        "outputId": "1fab7365-7f50-4290-957c-589e11fdaf95"
      },
      "execution_count": 12,
      "outputs": [
        {
          "output_type": "stream",
          "name": "stdout",
          "text": [
            "   최종순위   팀명\n",
            "0     1   LG\n",
            "1     2   KT\n",
            "2     3  SSG\n",
            "3     4   NC\n",
            "4     5   두산\n",
            "5     6  KIA\n",
            "6     7   롯데\n",
            "7     8   삼성\n",
            "8     9   한화\n",
            "9    10   키움\n"
          ]
        }
      ]
    },
    {
      "cell_type": "markdown",
      "source": [
        "## 각 데이터 시각화"
      ],
      "metadata": {
        "id": "CFmVscuF5CE1"
      }
    },
    {
      "cell_type": "code",
      "source": [
        "plt.bar(pich_war['팀명'],pich_war['WAR'])"
      ],
      "metadata": {
        "colab": {
          "base_uri": "https://localhost:8080/",
          "height": 460
        },
        "id": "k0uMvjsK9bfO",
        "outputId": "b85c6203-9860-4d25-a6a9-3e4eb306796a"
      },
      "execution_count": 9,
      "outputs": [
        {
          "output_type": "execute_result",
          "data": {
            "text/plain": [
              "<BarContainer object of 10 artists>"
            ]
          },
          "metadata": {},
          "execution_count": 9
        },
        {
          "output_type": "display_data",
          "data": {
            "text/plain": [
              "<Figure size 640x480 with 1 Axes>"
            ],
            "image/png": "[encoded data removed]"
          },
          "metadata": {}
        }
      ]
    },
    {
      "cell_type": "code",
      "source": [
        "plt.bar(bat_war['팀명'],bat_war['WAR'])"
      ],
      "metadata": {
        "colab": {
          "base_uri": "https://localhost:8080/",
          "height": 464
        },
        "id": "MtvbQbBpBSNx",
        "outputId": "4226bb92-5173-46bf-87f1-e9143ad13882"
      },
      "execution_count": 10,
      "outputs": [
        {
          "output_type": "execute_result",
          "data": {
            "text/plain": [
              "<BarContainer object of 10 artists>"
            ]
          },
          "metadata": {},
          "execution_count": 10
        },
        {
          "output_type": "display_data",
          "data": {
            "text/plain": [
              "<Figure size 640x480 with 1 Axes>"
            ],
            "image/png": "[encoded data removed]"
          },
          "metadata": {}
        }
      ]
    },
    {
      "cell_type": "code",
      "source": [
        "plt.bar(def_war['팀명'],def_war['WAAwithADJ'])"
      ],
      "metadata": {
        "colab": {
          "base_uri": "https://localhost:8080/",
          "height": 460
        },
        "id": "zlvhQ9XwBnAd",
        "outputId": "277f8db7-823b-4019-ad33-af267e586251"
      },
      "execution_count": 11,
      "outputs": [
        {
          "output_type": "execute_result",
          "data": {
            "text/plain": [
              "<BarContainer object of 10 artists>"
            ]
          },
          "metadata": {},
          "execution_count": 11
        },
        {
          "output_type": "display_data",
          "data": {
            "text/plain": [
              "<Figure size 640x480 with 1 Axes>"
            ],
            "image/png": "[encoded data removed]"
          },
          "metadata": {}
        }
      ]
    },
    {
      "cell_type": "markdown",
      "source": [
        "## 투구 순위와 최종순위 데이터 병합"
      ],
      "metadata": {
        "id": "i2gDyzBKDS7P"
      }
    },
    {
      "cell_type": "code",
      "source": [
        "pich_rank = pd.merge(pich_war,team_rank,how='inner',on='팀명')\n",
        "print(pich_rank)"
      ],
      "metadata": {
        "colab": {
          "base_uri": "https://localhost:8080/"
        },
        "id": "rT6NVeEsB-_R",
        "outputId": "1f9e3421-af2e-428d-9f25-a5831ab0697d"
      },
      "execution_count": 16,
      "outputs": [
        {
          "output_type": "stream",
          "name": "stdout",
          "text": [
            "   순위   팀명    WAR  최종순위\n",
            "0   1   KT  23.72     2\n",
            "1   2   NC  20.96     4\n",
            "2   3   두산  20.66     5\n",
            "3   4   LG  19.27     1\n",
            "4   5   롯데  16.06     7\n",
            "5   6  SSG  15.45     3\n",
            "6   7  KIA  15.31     6\n",
            "7   8   한화  13.75     9\n",
            "8   9   키움  13.53    10\n",
            "9  10   삼성  11.55     8\n"
          ]
        }
      ]
    },
    {
      "cell_type": "markdown",
      "source": [
        "## 투구 순위와 최종 순위 상관도 분석"
      ],
      "metadata": {
        "id": "ZzuQJRflErvg"
      }
    },
    {
      "cell_type": "code",
      "source": [
        "pich_corr = pich_rank['순위'].corr(pich_rank['최종순위'])\n",
        "print(pich_corr)"
      ],
      "metadata": {
        "colab": {
          "base_uri": "https://localhost:8080/"
        },
        "id": "b0tze5JuE4jh",
        "outputId": "144a094c-3f49-4b9e-de3a-483065b24338"
      },
      "execution_count": 21,
      "outputs": [
        {
          "output_type": "stream",
          "name": "stdout",
          "text": [
            "0.7696969696969697\n"
          ]
        }
      ]
    },
    {
      "cell_type": "markdown",
      "source": [
        "## 타격 순위와 최종순위 데이터 병합"
      ],
      "metadata": {
        "id": "oMUYwEijGmGQ"
      }
    },
    {
      "cell_type": "code",
      "source": [
        "bat_rank = pd.merge(bat_war,team_rank,how='inner',on='팀명')\n",
        "print(bat_rank)"
      ],
      "metadata": {
        "colab": {
          "base_uri": "https://localhost:8080/"
        },
        "id": "AVUjlyYcGuas",
        "outputId": "7aa7e437-7d71-4d90-a030-98c23c8a2120"
      },
      "execution_count": 22,
      "outputs": [
        {
          "output_type": "stream",
          "name": "stdout",
          "text": [
            "   순위   팀명    WAR  최종순위\n",
            "0   1   LG  28.96     1\n",
            "1   2  KIA  26.74     6\n",
            "2   3   NC  24.97     4\n",
            "3   4  SSG  22.98     3\n",
            "4   5   두산  20.65     5\n",
            "5   6   KT  19.65     2\n",
            "6   7   롯데  18.58     7\n",
            "7   8   키움  18.08    10\n",
            "8   9   삼성  17.32     8\n",
            "9  10   한화  15.97     9\n"
          ]
        }
      ]
    },
    {
      "cell_type": "markdown",
      "source": [
        "## 타격 순위와 최종순위 상관도 분석"
      ],
      "metadata": {
        "id": "-KxLAU0sG0dT"
      }
    },
    {
      "cell_type": "code",
      "source": [
        "bat_corr = bat_rank['순위'].corr(bat_rank['최종순위'])\n",
        "print(bat_corr)"
      ],
      "metadata": {
        "colab": {
          "base_uri": "https://localhost:8080/"
        },
        "id": "A1K4WxksG2xl",
        "outputId": "0e09af9b-298c-4814-b04b-80528641e7b1"
      },
      "execution_count": 23,
      "outputs": [
        {
          "output_type": "stream",
          "name": "stdout",
          "text": [
            "0.7575757575757575\n"
          ]
        }
      ]
    },
    {
      "cell_type": "markdown",
      "source": [
        "## 수비 순위와 최종순위 데이터 병합"
      ],
      "metadata": {
        "id": "Kr9u_fICHBIv"
      }
    },
    {
      "cell_type": "code",
      "source": [
        "def_rank = pd.merge(def_war,team_rank,how='inner',on='팀명')\n",
        "print(def_rank)"
      ],
      "metadata": {
        "colab": {
          "base_uri": "https://localhost:8080/"
        },
        "id": "RsPTRsXlHD8Q",
        "outputId": "955edcbb-90cf-4ece-f01f-72561a6116f5"
      },
      "execution_count": 24,
      "outputs": [
        {
          "output_type": "stream",
          "name": "stdout",
          "text": [
            "   순위   팀명  WAAwithADJ  최종순위\n",
            "0   1   한화       2.116     9\n",
            "1   2   NC       1.566     4\n",
            "2   3  KIA       1.045     6\n",
            "3   4   LG       0.969     1\n",
            "4   5   KT       0.686     2\n",
            "5   6   두산       0.624     5\n",
            "6   7   삼성      -0.658     8\n",
            "7   8  SSG      -0.959     3\n",
            "8   9   키움      -1.789    10\n",
            "9  10   롯데      -3.880     7\n"
          ]
        }
      ]
    },
    {
      "cell_type": "markdown",
      "source": [
        "## 수비 순위와 최종 순위 상관도 분석"
      ],
      "metadata": {
        "id": "5jJW3ZnVHIfw"
      }
    },
    {
      "cell_type": "code",
      "source": [
        "def_corr = def_rank['순위'].corr(def_rank['최종순위'])\n",
        "print(def_corr)"
      ],
      "metadata": {
        "colab": {
          "base_uri": "https://localhost:8080/"
        },
        "id": "oLlpG9zmHLJO",
        "outputId": "a23d8515-997a-4220-af46-139415f74ce1"
      },
      "execution_count": 25,
      "outputs": [
        {
          "output_type": "stream",
          "name": "stdout",
          "text": [
            "0.19999999999999998\n"
          ]
        }
      ]
    },
    {
      "cell_type": "markdown",
      "source": [
        "## 그래프로 표시"
      ],
      "metadata": {
        "id": "oD0PpKnRHY7E"
      }
    },
    {
      "cell_type": "code",
      "source": [
        "x=['pich','bat','defence']\n",
        "corr=[pich_corr,bat_corr,def_corr]\n",
        "\n",
        "plt.bar(x,corr)\n",
        "plt.ylim(0,1)\n",
        "plt.text(0,pich_corr,'0.7697')\n",
        "plt.text(1,bat_corr,'0.7576')\n",
        "plt.text(2,def_corr,'0.1999')\n",
        "plt.show()"
      ],
      "metadata": {
        "colab": {
          "base_uri": "https://localhost:8080/",
          "height": 451
        },
        "id": "AfoyyW6tHf7s",
        "outputId": "fbdf92f5-f5dc-4862-d249-95b414aa8560"
      },
      "execution_count": 34,
      "outputs": [
        {
          "output_type": "display_data",
          "data": {
            "text/plain": [
              "<Figure size 640x480 with 1 Axes>"
            ],
            "image/png": "[encoded data removed]"
          },
          "metadata": {}
        }
      ]
    },
    {
      "cell_type": "code",
      "source": [
        "sns.pairplot()"
      ],
      "metadata": {
        "id": "2_9trAkCJQSW"
      },
      "execution_count": null,
      "outputs": []
    },
    {
      "cell_type": "markdown",
      "source": [
        "# **결론 : 프로야구 최종순위에 가장 강한 영향을 끼치는 지표는 투구지표이다.**"
      ],
      "metadata": {
        "id": "A32dwIxuI9yM"
      }
    }
  ]
}